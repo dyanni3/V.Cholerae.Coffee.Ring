{
 "cells": [
  {
   "cell_type": "code",
   "execution_count": 14,
   "metadata": {
    "collapsed": false
   },
   "outputs": [],
   "source": [
    "import numpy as np\n",
    "import pandas as pd\n",
    "from keras.models import Sequential\n",
    "from keras.layers import LSTM,Dense\n",
    "from sklearn.preprocessing import MinMaxScaler\n",
    "import matplotlib.pyplot as plt\n",
    "%matplotlib inline\n"
   ]
  },
  {
   "cell_type": "code",
   "execution_count": 2,
   "metadata": {
    "collapsed": true
   },
   "outputs": [],
   "source": [
    "df=pd.read_csv('/Users/dyanni3/ML_ex1/all_stocks_1yr.csv')"
   ]
  },
  {
   "cell_type": "code",
   "execution_count": 3,
   "metadata": {
    "collapsed": false
   },
   "outputs": [
    {
     "data": {
      "text/plain": [
       "Index(['Date', 'Open', 'High', 'Low', 'Close', 'Volume', 'Name'], dtype='object')"
      ]
     },
     "execution_count": 3,
     "metadata": {},
     "output_type": "execute_result"
    }
   ],
   "source": [
    "df.columns"
   ]
  },
  {
   "cell_type": "code",
   "execution_count": 5,
   "metadata": {
    "collapsed": false
   },
   "outputs": [
    {
     "name": "stdout",
     "output_type": "stream",
     "text": [
      "['A' 'AAL' 'AAP' 'AAPL' 'ABBV' 'ABC' 'ABT' 'ACN' 'ADBE' 'ADI' 'ADM' 'ADP'\n",
      " 'ADS' 'ADSK' 'AEE' 'AEP' 'AES' 'AET' 'AFL' 'AGN' 'AIG' 'AIV' 'AIZ' 'AJG'\n",
      " 'AKAM' 'ALB' 'ALGN' 'ALK' 'ALL' 'ALLE' 'ALXN' 'AMAT' 'AMD' 'AME' 'AMG'\n",
      " 'AMGN' 'AMP' 'AMZN' 'ANDV' 'ANSS' 'ANTM' 'AON' 'AOS' 'APA' 'APC' 'APD'\n",
      " 'APH' 'ARE' 'ARNC' 'ATVI' 'AVB' 'AVGO' 'AVY' 'AWK' 'AXP' 'AYI' 'AZO' 'BA'\n",
      " 'BAC' 'BAX' 'BBT' 'BBY' 'BCR' 'BDX' 'BEN' 'BF.B' 'BHF' 'BHGE' 'BIIB' 'BK'\n",
      " 'BLK' 'BLL' 'BMY' 'BRK.B' 'BSX' 'BWA' 'BXP' 'C' 'CA' 'CAG' 'CAH' 'CAT'\n",
      " 'CB' 'CBG' 'CBOE' 'CBS' 'CCI' 'CCL' 'CELG' 'CERN' 'CF' 'CFG' 'CHD' 'CHK'\n",
      " 'CHRW' 'CHTR' 'CI' 'CINF' 'CL' 'CLX' 'CMA' 'CMCSA' 'CME' 'CMG' 'CMI' 'CMS'\n",
      " 'CNC' 'CNP' 'COF' 'COG' 'COH' 'COL' 'COO' 'COP' 'COST' 'COTY' 'CPB' 'CRM'\n",
      " 'CSCO' 'CSRA' 'CSX' 'CTAS' 'CTL' 'CTSH' 'CTXS' 'CVS' 'CVX' 'CXO' 'D' 'DAL'\n",
      " 'DD' 'DE' 'DFS' 'DG' 'DGX' 'DHI' 'DHR' 'DIS' 'DISCA' 'DISCK' 'DISH' 'DLPH'\n",
      " 'DLR' 'DLTR' 'DOV' 'DOW' 'DPS' 'DRE' 'DRI' 'DTE' 'DUK' 'DVA' 'DVN' 'DXC'\n",
      " 'EA' 'EBAY' 'ECL' 'ED' 'EFX' 'EIX' 'EL' 'EMN' 'EMR' 'EOG' 'EQIX' 'EQR'\n",
      " 'EQT' 'ES' 'ESRX' 'ESS' 'ETFC' 'ETN' 'ETR' 'EVHC' 'EW' 'EXC' 'EXPD' 'EXPE'\n",
      " 'EXR' 'F' 'FAST' 'FB' 'FBHS' 'FCX' 'FDX' 'FE' 'FFIV' 'FIS' 'FISV' 'FITB'\n",
      " 'FL' 'FLIR' 'FLR' 'FLS' 'FMC' 'FOX' 'FOXA' 'FRT' 'FTI' 'FTV' 'GD' 'GE'\n",
      " 'GGP' 'GILD' 'GIS' 'GLW' 'GM' 'GOOG' 'GOOGL' 'GPC' 'GPN' 'GPS' 'GRMN' 'GS'\n",
      " 'GT' 'GWW' 'HAL' 'HAS' 'HBAN' 'HBI' 'HCA' 'HCN' 'HCP' 'HD' 'HES' 'HIG'\n",
      " 'HLT' 'HOG' 'HOLX' 'HON' 'HP' 'HPE' 'HPQ' 'HRB' 'HRL' 'HRS' 'HSIC' 'HST'\n",
      " 'HSY' 'HUM' 'IBM' 'ICE' 'IDXX' 'IFF' 'ILMN' 'INCY' 'INFO' 'INTC' 'INTU'\n",
      " 'IP' 'IPG' 'IR' 'IRM' 'ISRG' 'IT' 'ITW' 'IVZ' 'JBHT' 'JCI' 'JEC' 'JNJ'\n",
      " 'JNPR' 'JPM' 'JWN' 'K' 'KEY' 'KHC' 'KIM' 'KLAC' 'KMB' 'KMI' 'KMX' 'KO'\n",
      " 'KORS' 'KR' 'KSS' 'KSU' 'L' 'LB' 'LEG' 'LEN' 'LH' 'LKQ' 'LLL' 'LLY' 'LNC'\n",
      " 'LNT' 'LOW' 'LRCX' 'LUK' 'LUV' 'LVLT' 'LYB' 'M' 'MA' 'MAA' 'MAC' 'MAR'\n",
      " 'MAS' 'MAT' 'MCD' 'MCHP' 'MCK' 'MCO' 'MDLZ' 'MDT' 'MET' 'MGM' 'MHK' 'MKC'\n",
      " 'MLM' 'MMC' 'MMM' 'MNST' 'MO' 'MON' 'MOS' 'MPC' 'MRK' 'MRO' 'MS' 'MSFT'\n",
      " 'MSI' 'MTB' 'MTD' 'MU' 'MYL' 'NAVI' 'NDAQ' 'NEE' 'NEM' 'NFLX' 'NFX' 'NI'\n",
      " 'NKE' 'NLSN' 'NOC' 'NOV' 'NRG' 'NSC' 'NTAP' 'NTRS' 'NUE' 'NVDA' 'NWS'\n",
      " 'NWSA' 'NYSE:LMT' 'NYSE:NBL' 'NYSE:NWL' 'O' 'OKE' 'OMC' 'ORCL' 'ORLY'\n",
      " 'OXY' 'PAYX' 'PBCT' 'PCAR' 'PCG' 'PCLN' 'PDCO' 'PEG' 'PEP' 'PFE' 'PFG'\n",
      " 'PG' 'PGR' 'PH' 'PHM' 'PKG' 'PKI' 'PLD' 'PM' 'PNC' 'PNR' 'PNW' 'PPG' 'PPL'\n",
      " 'PRGO' 'PRU' 'PSA' 'PSX' 'PVH' 'PWR' 'PX' 'PXD' 'PYPL' 'QCOM' 'QRVO' 'RCL'\n",
      " 'RE' 'REG' 'REGN' 'RF' 'RHI' 'RHT' 'RJF' 'RL' 'RMD' 'ROK' 'ROP' 'ROST'\n",
      " 'RRC' 'RSG' 'RTN' 'SBUX' 'SCG' 'SCHW' 'SEE' 'SHW' 'SIG' 'SJM' 'SLB' 'SLG'\n",
      " 'SNA' 'SNI' 'SNPS' 'SO' 'SPG' 'SPGI' 'SPLS' 'SRCL' 'SRE' 'STI' 'STT' 'STX'\n",
      " 'STZ' 'SWK' 'SWKS' 'SYF' 'SYK' 'SYMC' 'SYY' 'T' 'TAP' 'TDG' 'TEL' 'TGT'\n",
      " 'TIF' 'TJX' 'TMK' 'TMO' 'TRIP' 'TROW' 'TRV' 'TSCO' 'TSN' 'TSS' 'TWX' 'TXN'\n",
      " 'TXT' 'UA' 'UAA' 'UAL' 'UDR' 'UHS' 'ULTA' 'UNH' 'UNM' 'UNP' 'UPS' 'URI'\n",
      " 'USB' 'UTX' 'V' 'VAR' 'VFC' 'VIAB' 'VLO' 'VMC' 'VNO' 'VRSK' 'VRSN' 'VRTX'\n",
      " 'VTR' 'VZ' 'WAT' 'WBA' 'WDC' 'WEC' 'WFC' 'WFM' 'WHR' 'WLTW' 'WM' 'WMB'\n",
      " 'WMT' 'WRK' 'WU' 'WY' 'WYN' 'WYNN' 'XEC' 'XEL' 'XL' 'XLNX' 'XOM' 'XRAY'\n",
      " 'XRX' 'XYL' 'YUM' 'ZBH' 'ZION' 'ZTS']\n"
     ]
    }
   ],
   "source": [
    "stock_names=np.unique(df['Name'])\n",
    "print(stock_names)"
   ]
  },
  {
   "cell_type": "code",
   "execution_count": 101,
   "metadata": {
    "collapsed": false
   },
   "outputs": [],
   "source": [
    "ADS=df[df['Name']=='ADS'].Close\n",
    "USB=df[df['Name']=='USB'].Close"
   ]
  },
  {
   "cell_type": "code",
   "execution_count": 102,
   "metadata": {
    "collapsed": false
   },
   "outputs": [
    {
     "data": {
      "text/plain": [
       "113617    42.73\n",
       "113618    42.98\n",
       "113619    43.02\n",
       "113620    43.22\n",
       "113621    43.22\n",
       "Name: Close, dtype: float64"
      ]
     },
     "execution_count": 102,
     "metadata": {},
     "output_type": "execute_result"
    }
   ],
   "source": [
    "USB.head()"
   ]
  },
  {
   "cell_type": "code",
   "execution_count": 103,
   "metadata": {
    "collapsed": false
   },
   "outputs": [
    {
     "data": {
      "text/plain": [
       "[<matplotlib.lines.Line2D at 0x137524c88>]"
      ]
     },
     "execution_count": 103,
     "metadata": {},
     "output_type": "execute_result"
    },
    {
     "data": {
      "image/png": "[encoded data removed]",
      "text/plain": [
       "<matplotlib.figure.Figure at 0x137524be0>"
      ]
     },
     "metadata": {},
     "output_type": "display_data"
    }
   ],
   "source": [
    "plt.plot(c2)\n",
    "plt.plot(cl)"
   ]
  },
  {
   "cell_type": "code",
   "execution_count": 104,
   "metadata": {
    "collapsed": false
   },
   "outputs": [],
   "source": [
    "scl = MinMaxScaler()\n",
    "#Scale the data\n",
    "c2 = USB.reshape(USB.shape[0],1)\n",
    "c2 = scl.fit_transform(c2)"
   ]
  },
  {
   "cell_type": "code",
   "execution_count": 105,
   "metadata": {
    "collapsed": false
   },
   "outputs": [
    {
     "name": "stdout",
     "output_type": "stream",
     "text": [
      "195\n",
      "49\n",
      "195\n",
      "49\n"
     ]
    }
   ],
   "source": [
    "def processData(data,lb):\n",
    "    X,Y = [],[]\n",
    "    for i in range(len(data)-lb-1):\n",
    "        X.append(data[i:(i+lb),0])\n",
    "        Y.append(data[(i+lb),0])\n",
    "    return np.array(X),np.array(Y)\n",
    "X,y = processData(c2,7)\n",
    "X_train,X_test = X[:int(X.shape[0]*0.80)],X[int(X.shape[0]*0.80):]\n",
    "y_train,y_test = y[:int(y.shape[0]*0.80)],y[int(y.shape[0]*0.80):]\n",
    "print(X_train.shape[0])\n",
    "print(X_test.shape[0])\n",
    "print(y_train.shape[0])\n",
    "print(y_test.shape[0])"
   ]
  },
  {
   "cell_type": "code",
   "execution_count": 106,
   "metadata": {
    "collapsed": false
   },
   "outputs": [
    {
     "name": "stdout",
     "output_type": "stream",
     "text": [
      "Train on 195 samples, validate on 49 samples\n",
      "Epoch 1/100\n",
      "195/195 [==============================] - 1s 5ms/step - loss: 0.1368 - val_loss: 0.0038\n",
      "Epoch 2/100\n",
      "195/195 [==============================] - 0s 2ms/step - loss: 0.0356 - val_loss: 0.0019\n",
      "Epoch 3/100\n",
      "195/195 [==============================] - 0s 2ms/step - loss: 0.0204 - val_loss: 0.0272\n",
      "Epoch 4/100\n",
      "195/195 [==============================] - 0s 2ms/step - loss: 0.0125 - val_loss: 0.0021\n",
      "Epoch 5/100\n",
      "195/195 [==============================] - 0s 2ms/step - loss: 0.0072 - val_loss: 0.0037\n",
      "Epoch 6/100\n",
      "195/195 [==============================] - 0s 2ms/step - loss: 0.0047 - val_loss: 0.0036\n",
      "Epoch 7/100\n",
      "195/195 [==============================] - 0s 2ms/step - loss: 0.0056 - val_loss: 0.0026\n",
      "Epoch 8/100\n",
      "195/195 [==============================] - 0s 2ms/step - loss: 0.0038 - val_loss: 0.0020\n",
      "Epoch 9/100\n",
      "195/195 [==============================] - 0s 1ms/step - loss: 0.0036 - val_loss: 0.0021\n",
      "Epoch 10/100\n",
      "195/195 [==============================] - 0s 2ms/step - loss: 0.0038 - val_loss: 0.0022\n",
      "Epoch 11/100\n",
      "195/195 [==============================] - 0s 2ms/step - loss: 0.0034 - val_loss: 0.0019\n",
      "Epoch 12/100\n",
      "195/195 [==============================] - 0s 1ms/step - loss: 0.0033 - val_loss: 0.0021\n",
      "Epoch 13/100\n",
      "195/195 [==============================] - 0s 2ms/step - loss: 0.0034 - val_loss: 0.0020\n",
      "Epoch 14/100\n",
      "195/195 [==============================] - 0s 1ms/step - loss: 0.0033 - val_loss: 0.0020\n",
      "Epoch 15/100\n",
      "195/195 [==============================] - 0s 2ms/step - loss: 0.0033 - val_loss: 0.0020\n",
      "Epoch 16/100\n",
      "195/195 [==============================] - 0s 2ms/step - loss: 0.0033 - val_loss: 0.0020\n",
      "Epoch 17/100\n",
      "195/195 [==============================] - 0s 2ms/step - loss: 0.0033 - val_loss: 0.0020\n",
      "Epoch 18/100\n",
      "195/195 [==============================] - 0s 2ms/step - loss: 0.0033 - val_loss: 0.0020\n",
      "Epoch 19/100\n",
      "195/195 [==============================] - 0s 2ms/step - loss: 0.0033 - val_loss: 0.0020\n",
      "Epoch 20/100\n",
      "195/195 [==============================] - 0s 2ms/step - loss: 0.0033 - val_loss: 0.0020\n",
      "Epoch 21/100\n",
      "195/195 [==============================] - 0s 2ms/step - loss: 0.0033 - val_loss: 0.0020\n",
      "Epoch 22/100\n",
      "195/195 [==============================] - 0s 2ms/step - loss: 0.0033 - val_loss: 0.0020\n",
      "Epoch 23/100\n",
      "195/195 [==============================] - 0s 2ms/step - loss: 0.0033 - val_loss: 0.0020\n",
      "Epoch 24/100\n",
      "195/195 [==============================] - 0s 2ms/step - loss: 0.0033 - val_loss: 0.0019\n",
      "Epoch 25/100\n",
      "195/195 [==============================] - 0s 2ms/step - loss: 0.0033 - val_loss: 0.0019\n",
      "Epoch 26/100\n",
      "195/195 [==============================] - 0s 2ms/step - loss: 0.0033 - val_loss: 0.0019\n",
      "Epoch 27/100\n",
      "195/195 [==============================] - 0s 2ms/step - loss: 0.0032 - val_loss: 0.0019\n",
      "Epoch 28/100\n",
      "195/195 [==============================] - 0s 2ms/step - loss: 0.0032 - val_loss: 0.0019\n",
      "Epoch 29/100\n",
      "195/195 [==============================] - 0s 2ms/step - loss: 0.0032 - val_loss: 0.0019\n",
      "Epoch 30/100\n",
      "195/195 [==============================] - 0s 2ms/step - loss: 0.0032 - val_loss: 0.0019\n",
      "Epoch 31/100\n",
      "195/195 [==============================] - 0s 2ms/step - loss: 0.0032 - val_loss: 0.0019\n",
      "Epoch 32/100\n",
      "195/195 [==============================] - 0s 2ms/step - loss: 0.0032 - val_loss: 0.0019\n",
      "Epoch 33/100\n",
      "195/195 [==============================] - 0s 2ms/step - loss: 0.0032 - val_loss: 0.0019\n",
      "Epoch 34/100\n",
      "195/195 [==============================] - 0s 2ms/step - loss: 0.0032 - val_loss: 0.0019\n",
      "Epoch 35/100\n",
      "195/195 [==============================] - 0s 1ms/step - loss: 0.0032 - val_loss: 0.0019\n",
      "Epoch 36/100\n",
      "195/195 [==============================] - 0s 2ms/step - loss: 0.0032 - val_loss: 0.0019\n",
      "Epoch 37/100\n",
      "195/195 [==============================] - 0s 2ms/step - loss: 0.0032 - val_loss: 0.0019\n",
      "Epoch 38/100\n",
      "195/195 [==============================] - 0s 2ms/step - loss: 0.0031 - val_loss: 0.0019\n",
      "Epoch 39/100\n",
      "195/195 [==============================] - 0s 2ms/step - loss: 0.0031 - val_loss: 0.0018\n",
      "Epoch 40/100\n",
      "195/195 [==============================] - 0s 2ms/step - loss: 0.0031 - val_loss: 0.0018\n",
      "Epoch 41/100\n",
      "195/195 [==============================] - 0s 2ms/step - loss: 0.0031 - val_loss: 0.0018\n",
      "Epoch 42/100\n",
      "195/195 [==============================] - 0s 2ms/step - loss: 0.0031 - val_loss: 0.0018\n",
      "Epoch 43/100\n",
      "195/195 [==============================] - 0s 2ms/step - loss: 0.0031 - val_loss: 0.0018\n",
      "Epoch 44/100\n",
      "195/195 [==============================] - 0s 2ms/step - loss: 0.0031 - val_loss: 0.0018\n",
      "Epoch 45/100\n",
      "195/195 [==============================] - 0s 2ms/step - loss: 0.0031 - val_loss: 0.0018\n",
      "Epoch 46/100\n",
      "195/195 [==============================] - 0s 2ms/step - loss: 0.0031 - val_loss: 0.0018\n",
      "Epoch 47/100\n",
      "195/195 [==============================] - 0s 2ms/step - loss: 0.0031 - val_loss: 0.0018\n",
      "Epoch 48/100\n",
      "195/195 [==============================] - 0s 2ms/step - loss: 0.0030 - val_loss: 0.0018\n",
      "Epoch 49/100\n",
      "195/195 [==============================] - 0s 2ms/step - loss: 0.0030 - val_loss: 0.0018\n",
      "Epoch 50/100\n",
      "195/195 [==============================] - 0s 2ms/step - loss: 0.0030 - val_loss: 0.0018\n",
      "Epoch 51/100\n",
      "195/195 [==============================] - 0s 2ms/step - loss: 0.0030 - val_loss: 0.0018\n",
      "Epoch 52/100\n",
      "195/195 [==============================] - 0s 2ms/step - loss: 0.0030 - val_loss: 0.0018\n",
      "Epoch 53/100\n",
      "195/195 [==============================] - 0s 2ms/step - loss: 0.0030 - val_loss: 0.0017\n",
      "Epoch 54/100\n",
      "195/195 [==============================] - 0s 2ms/step - loss: 0.0029 - val_loss: 0.0018\n",
      "Epoch 55/100\n",
      "195/195 [==============================] - 0s 2ms/step - loss: 0.0030 - val_loss: 0.0017\n",
      "Epoch 56/100\n",
      "195/195 [==============================] - 0s 2ms/step - loss: 0.0029 - val_loss: 0.0018\n",
      "Epoch 57/100\n",
      "195/195 [==============================] - 0s 2ms/step - loss: 0.0031 - val_loss: 0.0017\n",
      "Epoch 58/100\n",
      "195/195 [==============================] - 0s 2ms/step - loss: 0.0028 - val_loss: 0.0018\n",
      "Epoch 59/100\n",
      "195/195 [==============================] - 0s 2ms/step - loss: 0.0031 - val_loss: 0.0017\n",
      "Epoch 60/100\n",
      "195/195 [==============================] - 0s 2ms/step - loss: 0.0028 - val_loss: 0.0019\n",
      "Epoch 61/100\n",
      "195/195 [==============================] - 0s 2ms/step - loss: 0.0033 - val_loss: 0.0017\n",
      "Epoch 62/100\n",
      "195/195 [==============================] - 0s 2ms/step - loss: 0.0027 - val_loss: 0.0022\n",
      "Epoch 63/100\n",
      "195/195 [==============================] - 0s 2ms/step - loss: 0.0037 - val_loss: 0.0019\n",
      "Epoch 64/100\n",
      "195/195 [==============================] - 0s 2ms/step - loss: 0.0028 - val_loss: 0.0028\n",
      "Epoch 65/100\n",
      "195/195 [==============================] - 0s 2ms/step - loss: 0.0045 - val_loss: 0.0023\n",
      "Epoch 66/100\n",
      "195/195 [==============================] - 0s 2ms/step - loss: 0.0032 - val_loss: 0.0041\n",
      "Epoch 67/100\n",
      "195/195 [==============================] - 0s 2ms/step - loss: 0.0064 - val_loss: 0.0030\n",
      "Epoch 68/100\n",
      "195/195 [==============================] - 0s 2ms/step - loss: 0.0047 - val_loss: 0.0062\n",
      "Epoch 69/100\n",
      "195/195 [==============================] - 0s 1ms/step - loss: 0.0105 - val_loss: 0.0026\n",
      "Epoch 70/100\n",
      "195/195 [==============================] - 0s 1ms/step - loss: 0.0075 - val_loss: 0.0062\n",
      "Epoch 71/100\n",
      "195/195 [==============================] - 0s 1ms/step - loss: 0.0149 - val_loss: 0.0019\n",
      "Epoch 72/100\n",
      "195/195 [==============================] - 0s 1ms/step - loss: 0.0070 - val_loss: 0.0019\n",
      "Epoch 73/100\n",
      "195/195 [==============================] - 0s 2ms/step - loss: 0.0091 - val_loss: 0.0030\n",
      "Epoch 74/100\n",
      "195/195 [==============================] - 0s 2ms/step - loss: 0.0037 - val_loss: 0.0018\n",
      "Epoch 75/100\n",
      "195/195 [==============================] - 0s 2ms/step - loss: 0.0034 - val_loss: 0.0021\n",
      "Epoch 76/100\n",
      "195/195 [==============================] - 0s 2ms/step - loss: 0.0029 - val_loss: 0.0016\n",
      "Epoch 77/100\n",
      "195/195 [==============================] - 0s 2ms/step - loss: 0.0026 - val_loss: 0.0017\n",
      "Epoch 78/100\n",
      "195/195 [==============================] - 0s 2ms/step - loss: 0.0029 - val_loss: 0.0016\n",
      "Epoch 79/100\n",
      "195/195 [==============================] - 0s 2ms/step - loss: 0.0026 - val_loss: 0.0016\n",
      "Epoch 80/100\n",
      "195/195 [==============================] - 0s 1ms/step - loss: 0.0028 - val_loss: 0.0016\n",
      "Epoch 81/100\n",
      "195/195 [==============================] - 0s 2ms/step - loss: 0.0026 - val_loss: 0.0016\n",
      "Epoch 82/100\n",
      "195/195 [==============================] - 0s 1ms/step - loss: 0.0027 - val_loss: 0.0016\n",
      "Epoch 83/100\n",
      "195/195 [==============================] - 0s 2ms/step - loss: 0.0026 - val_loss: 0.0016\n",
      "Epoch 84/100\n",
      "195/195 [==============================] - 0s 2ms/step - loss: 0.0026 - val_loss: 0.0016\n",
      "Epoch 85/100\n",
      "195/195 [==============================] - 0s 2ms/step - loss: 0.0026 - val_loss: 0.0016\n",
      "Epoch 86/100\n",
      "195/195 [==============================] - 0s 2ms/step - loss: 0.0026 - val_loss: 0.0016\n",
      "Epoch 87/100\n",
      "195/195 [==============================] - 0s 2ms/step - loss: 0.0026 - val_loss: 0.0016\n",
      "Epoch 88/100\n",
      "195/195 [==============================] - 0s 2ms/step - loss: 0.0026 - val_loss: 0.0016\n",
      "Epoch 89/100\n",
      "195/195 [==============================] - 0s 2ms/step - loss: 0.0026 - val_loss: 0.0016\n",
      "Epoch 90/100\n",
      "195/195 [==============================] - 0s 2ms/step - loss: 0.0026 - val_loss: 0.0016\n",
      "Epoch 91/100\n",
      "195/195 [==============================] - 0s 2ms/step - loss: 0.0026 - val_loss: 0.0016\n",
      "Epoch 92/100\n",
      "195/195 [==============================] - 0s 1ms/step - loss: 0.0026 - val_loss: 0.0016\n",
      "Epoch 93/100\n",
      "195/195 [==============================] - 0s 1ms/step - loss: 0.0025 - val_loss: 0.0016\n",
      "Epoch 94/100\n",
      "195/195 [==============================] - 0s 2ms/step - loss: 0.0025 - val_loss: 0.0016\n",
      "Epoch 95/100\n",
      "195/195 [==============================] - 0s 2ms/step - loss: 0.0025 - val_loss: 0.0016\n",
      "Epoch 96/100\n",
      "195/195 [==============================] - 0s 2ms/step - loss: 0.0025 - val_loss: 0.0016\n",
      "Epoch 97/100\n",
      "195/195 [==============================] - 0s 2ms/step - loss: 0.0025 - val_loss: 0.0015\n",
      "Epoch 98/100\n",
      "195/195 [==============================] - 0s 2ms/step - loss: 0.0025 - val_loss: 0.0015\n",
      "Epoch 99/100\n",
      "195/195 [==============================] - 0s 2ms/step - loss: 0.0025 - val_loss: 0.0015\n",
      "Epoch 100/100\n",
      "195/195 [==============================] - 0s 2ms/step - loss: 0.0025 - val_loss: 0.0015\n"
     ]
    }
   ],
   "source": [
    "#Build the model\n",
    "model = Sequential()\n",
    "model.add(LSTM(256,input_shape=(7,1)))\n",
    "model.add(Dense(1))\n",
    "model.compile(optimizer='adam',loss='mse')\n",
    "#Reshape data for (Sample,Timestep,Features) \n",
    "X_train = X_train.reshape((X_train.shape[0],X_train.shape[1],1))\n",
    "X_test = X_test.reshape((X_test.shape[0],X_test.shape[1],1))\n",
    "#Fit model with history to check for overfitting\n",
    "history = model.fit(X_train,y_train,epochs=100,validation_data=(X_test,y_test),shuffle=False)"
   ]
  },
  {
   "cell_type": "code",
   "execution_count": 66,
   "metadata": {
    "collapsed": false
   },
   "outputs": [
    {
     "data": {
      "text/plain": [
       "<matplotlib.legend.Legend at 0x1351c2c50>"
      ]
     },
     "execution_count": 66,
     "metadata": {},
     "output_type": "execute_result"
    },
    {
     "data": {
      "image/png": "[encoded data removed]",
      "text/plain": [
       "<matplotlib.figure.Figure at 0x126d1d710>"
      ]
     },
     "metadata": {},
     "output_type": "display_data"
    }
   ],
   "source": [
    "plt.plot(history.history['loss'])\n",
    "plt.plot(history.history['val_loss'])\n",
    "plt.xlabel('epochs')\n",
    "plt.ylabel('loss')\n",
    "plt.legend(['train','validation'])"
   ]
  },
  {
   "cell_type": "code",
   "execution_count": 96,
   "metadata": {
    "collapsed": false
   },
   "outputs": [],
   "source": [
    "#We see this is pretty jumpy but we will keep it at 300 epochs. With more data, it should smooth out the loss\n",
    "#Lets look at the fit\n",
    "Xt = model.predict(X_test)\n",
    "Xtr=model.predict(X_train)\n",
    "#plt.plot(scl.inverse_transform(y_test.reshape(-1,1)))\n",
    "#plt.plot(scl.inverse_transform(Xt))"
   ]
  },
  {
   "cell_type": "code",
   "execution_count": 100,
   "metadata": {
    "collapsed": false
   },
   "outputs": [
    {
     "name": "stderr",
     "output_type": "stream",
     "text": [
      "/Users/dyanni3/anaconda/lib/python3.5/site-packages/sklearn/preprocessing/data.py:377: DeprecationWarning: Passing 1d arrays as data is deprecated in 0.17 and will raise ValueError in 0.19. Reshape your data either using X.reshape(-1, 1) if your data has a single feature or X.reshape(1, -1) if it contains a single sample.\n",
      "  warnings.warn(DEPRECATION_MSG_1D, DeprecationWarning)\n",
      "/Users/dyanni3/anaconda/lib/python3.5/site-packages/sklearn/preprocessing/data.py:377: DeprecationWarning: Passing 1d arrays as data is deprecated in 0.17 and will raise ValueError in 0.19. Reshape your data either using X.reshape(-1, 1) if your data has a single feature or X.reshape(1, -1) if it contains a single sample.\n",
      "  warnings.warn(DEPRECATION_MSG_1D, DeprecationWarning)\n"
     ]
    },
    {
     "data": {
      "image/png": "[encoded data removed]",
      "text/plain": [
       "<matplotlib.figure.Figure at 0x136031358>"
      ]
     },
     "metadata": {},
     "output_type": "display_data"
    }
   ],
   "source": [
    "train_range=np.arange(len(y_train))\n",
    "test_range=np.arange(len(y_train),len(y_train)+len(y_test))\n",
    "plt.figure(figsize=(14,8))\n",
    "plt.plot(train_range,scl.inverse_transform(y_train),'b')\n",
    "plt.plot(test_range,scl.inverse_transform(y_test),'b')\n",
    "plt.plot(test_range[:-1],scl.inverse_transform(Xt)[1:],'g')\n",
    "plt.plot(train_range[:-1],scl.inverse_transform(Xtr)[1:],'r')\n",
    "plt.grid()\n"
   ]
  },
  {
   "cell_type": "code",
   "execution_count": 97,
   "metadata": {
    "collapsed": false
   },
   "outputs": [
    {
     "data": {
      "text/html": [
       "<script>\n",
       "code_show_err=false; \n",
       "function code_toggle_err() {\n",
       " if (code_show_err){\n",
       " $('div.output_stderr').hide();\n",
       " } else {\n",
       " $('div.output_stderr').show();\n",
       " }\n",
       " code_show_err = !code_show_err\n",
       "} \n",
       "$( document ).ready(code_toggle_err);\n",
       "</script>\n",
       "To toggle on/off output_stderr, click <a href=\"javascript:code_toggle_err()\">here</a>."
      ],
      "text/plain": [
       "<IPython.core.display.HTML object>"
      ]
     },
     "execution_count": 97,
     "metadata": {},
     "output_type": "execute_result"
    }
   ],
   "source": [
    "from IPython.display import HTML\n",
    "HTML('''<script>\n",
    "code_show_err=false; \n",
    "function code_toggle_err() {\n",
    " if (code_show_err){\n",
    " $('div.output_stderr').hide();\n",
    " } else {\n",
    " $('div.output_stderr').show();\n",
    " }\n",
    " code_show_err = !code_show_err\n",
    "} \n",
    "$( document ).ready(code_toggle_err);\n",
    "</script>\n",
    "To toggle on/off output_stderr, click <a href=\"javascript:code_toggle_err()\">here</a>.''')"
   ]
  },
  {
   "cell_type": "code",
   "execution_count": null,
   "metadata": {
    "collapsed": true
   },
   "outputs": [],
   "source": []
  }
 ],
 "metadata": {
  "anaconda-cloud": {},
  "kernelspec": {
   "display_name": "Python [conda root]",
   "language": "python",
   "name": "conda-root-py"
  },
  "language_info": {
   "codemirror_mode": {
    "name": "ipython",
    "version": 3
   },
   "file_extension": ".py",
   "mimetype": "text/x-python",
   "name": "python",
   "nbconvert_exporter": "python",
   "pygments_lexer": "ipython3",
   "version": "3.5.2"
  }
 },
 "nbformat": 4,
 "nbformat_minor": 1
}
